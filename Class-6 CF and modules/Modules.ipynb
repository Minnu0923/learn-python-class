{
 "cells": [
  {
   "cell_type": "code",
   "execution_count": null,
   "id": "acb7a44b-c633-4dcd-a417-3512841af39a",
   "metadata": {},
   "outputs": [],
   "source": []
  }
 ],
 "metadata": {
  "kernelspec": {
   "display_name": "",
   "name": ""
  },
  "language_info": {
   "name": ""
  }
 },
 "nbformat": 4,
 "nbformat_minor": 5
}
