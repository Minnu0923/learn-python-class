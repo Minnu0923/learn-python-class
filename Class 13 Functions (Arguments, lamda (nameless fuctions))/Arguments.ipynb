{
 "cells": [
  {
   "cell_type": "code",
   "execution_count": 4,
   "id": "121c3702-f739-465e-b764-da58b44a54fa",
   "metadata": {},
   "outputs": [
    {
     "name": "stdout",
     "output_type": "stream",
     "text": [
      "Login Success\n",
      "Login Failed\n"
     ]
    }
   ],
   "source": [
    "def login(users, status):\n",
    "    if (status ==True):\n",
    "        print(\"Login Success\")\n",
    "    else:\n",
    "        print(\"Login Failed\")\n",
    "\n",
    "login (\"Rahul\", True)\n",
    "login (\"Rahul\", False)"
   ]
  },
  {
   "cell_type": "code",
   "execution_count": null,
   "id": "fc282f43-2d63-436c-a95c-6e117a2862cb",
   "metadata": {},
   "outputs": [],
   "source": [
    "def get_min_bal(bal=500):\n",
    "    return bal"
   ]
  },
  {
   "cell_type": "code",
   "execution_count": null,
   "id": "a35d1fc0-dbd0-4436-a238-73f3f4754547",
   "metadata": {},
   "outputs": [],
   "source": [
    "from "
   ]
  }
 ],
 "metadata": {
  "kernelspec": {
   "display_name": "Python 3 (ipykernel)",
   "language": "python",
   "name": "python3"
  },
  "language_info": {
   "codemirror_mode": {
    "name": "ipython",
    "version": 3
   },
   "file_extension": ".py",
   "mimetype": "text/x-python",
   "name": "python",
   "nbconvert_exporter": "python",
   "pygments_lexer": "ipython3",
   "version": "3.12.8"
  }
 },
 "nbformat": 4,
 "nbformat_minor": 5
}
