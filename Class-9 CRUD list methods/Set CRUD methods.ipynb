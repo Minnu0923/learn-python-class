{
 "cells": [
  {
   "cell_type": "code",
   "execution_count": 1,
   "id": "d0fb847f-1d71-420b-b669-55058422ce5a",
   "metadata": {},
   "outputs": [
    {
     "name": "stdout",
     "output_type": "stream",
     "text": [
      "<class 'dict'>\n",
      "<class 'set'>\n",
      "<class 'set'>\n"
     ]
    }
   ],
   "source": [
    "#set- object\n",
    "s1= {}\n",
    "s2={10}\n",
    "#how to create an empty set? using set fuction\n",
    "s3= set ()\n",
    "\n",
    "print(type(s1))\n",
    "print(type(s2))\n",
    "print(type(s3))\n",
    "      "
   ]
  },
  {
   "cell_type": "code",
   "execution_count": 2,
   "id": "99169fa8-bfc0-42e7-9ab5-9ba8629097b5",
   "metadata": {},
   "outputs": [
    {
     "name": "stdout",
     "output_type": "stream",
     "text": [
      "{101, 102}\n"
     ]
    }
   ],
   "source": [
    "eids={101,101,102,102,102,101}\n",
    "print(eids) #set-duplicates are not allowed"
   ]
  },
  {
   "cell_type": "code",
   "execution_count": 4,
   "id": "65913ffe-f0ea-41a9-9369-76eb955cf8e4",
   "metadata": {},
   "outputs": [
    {
     "name": "stdout",
     "output_type": "stream",
     "text": [
      "[101, 101, 102, 102, 102, 101]\n",
      "(101, 101, 102, 102, 102, 101)\n",
      "{101, 102}\n"
     ]
    }
   ],
   "source": [
    "l1=[101,101,102,102,102,101] #LIST\n",
    "t1=(101,101,102,102,102,101) #TUPLE \n",
    "s1={101,101,102,102,102,101} #SET    \n",
    "print(l1) #LIST ALLOWED DUPLICATES\n",
    "print(t1) #LIST ALLOWED DUPLICATES\n",
    "print(s1) #DOESN'T ALLOW DUPLICATES"
   ]
  },
  {
   "cell_type": "code",
   "execution_count": 5,
   "id": "0adffe84-0e09-4e56-a167-58530fdaa92d",
   "metadata": {},
   "outputs": [
    {
     "name": "stdout",
     "output_type": "stream",
     "text": [
      "{True, 20.5, 10, 'Rahul', (10, 20)}\n"
     ]
    }
   ],
   "source": [
    "s1={10, \"Rahul\", 20.5, True, (10,20)} \n",
    "print(s1) #set doesn't have order because indexing concept not applicable\n",
    "#set objects will not allow dict and set only will allow heterogenous and tuple"
   ]
  },
  {
   "cell_type": "code",
   "execution_count": 6,
   "id": "9cbba12a-941e-4970-affb-45fb925b1a8a",
   "metadata": {},
   "outputs": [
    {
     "name": "stdout",
     "output_type": "stream",
     "text": [
      "True\n",
      "20.5\n",
      "10\n",
      "Rahul\n",
      "(10, 20)\n"
     ]
    }
   ],
   "source": [
    "s1={10, \"Rahul\", 20.5, True, (10,20)} \n",
    "for ele in s1:\n",
    "    print(ele)"
   ]
  },
  {
   "cell_type": "code",
   "execution_count": 7,
   "id": "5044a11b-d402-4ee0-9ffb-22e89afca9ef",
   "metadata": {},
   "outputs": [
    {
     "name": "stdout",
     "output_type": "stream",
     "text": [
      "{True, 20.5, 10, 'sonia', 'Rahul', (10, 20)}\n"
     ]
    }
   ],
   "source": [
    "s1={10, \"Rahul\", 20.5, True, (10,20)} \n",
    "s1.add(\"sonia\") #set is a mutable object meaning elements can be added.\n",
    "print(s1)\n"
   ]
  },
  {
   "cell_type": "code",
   "execution_count": 8,
   "id": "26d521b0-bc19-400d-bbaa-dbeafe00843a",
   "metadata": {},
   "outputs": [
    {
     "name": "stdout",
     "output_type": "stream",
     "text": [
      "set()\n"
     ]
    }
   ],
   "source": [
    "s1={10, \"Rahul\", 20.5, True, (10,20)} \n",
    "s1.clear() #all elements are removed however there is empty set\n",
    "print(s1) "
   ]
  },
  {
   "cell_type": "code",
   "execution_count": 9,
   "id": "d9755025-9658-45da-ae9d-0462ee6533bd",
   "metadata": {},
   "outputs": [
    {
     "name": "stdout",
     "output_type": "stream",
     "text": [
      "{20.5, 10, 'Rahul', (10, 20)}\n"
     ]
    }
   ],
   "source": [
    "s1={10, \"Rahul\", 20.5, True, (10,20)} \n",
    "s1.pop() #removes arbitary element\n",
    "print(s1) "
   ]
  },
  {
   "cell_type": "code",
   "execution_count": 11,
   "id": "8b9ff6fc-71e8-4baf-98d0-67f0f1f4a16a",
   "metadata": {},
   "outputs": [
    {
     "name": "stdout",
     "output_type": "stream",
     "text": [
      "{True, 20.5, 'Rahul', (10, 20)}\n"
     ]
    }
   ],
   "source": [
    "s1={10, \"Rahul\", 20.5, True, (10,20)} \n",
    "s1.remove(10) #if the element is not present then KEY ERROR\n",
    "print(s1)"
   ]
  },
  {
   "cell_type": "code",
   "execution_count": 12,
   "id": "836dc2d2-e61c-467f-9dc9-ad99ce7dca8b",
   "metadata": {},
   "outputs": [
    {
     "name": "stdout",
     "output_type": "stream",
     "text": [
      "{20.5, 10, 'Rahul', (10, 20)}\n",
      "True\n"
     ]
    }
   ],
   "source": [
    "s1={10, \"Rahul\", 20.5, True, (10,20)} \n",
    "rem_element=s1.pop()\n",
    "print(s1)\n",
    "print(rem_element)"
   ]
  },
  {
   "cell_type": "code",
   "execution_count": 1,
   "id": "d69a7b4a-af92-4fdf-9b4b-877296a42e78",
   "metadata": {},
   "outputs": [
    {
     "name": "stdout",
     "output_type": "stream",
     "text": [
      "{'Rahul', True, 20.5, 10, (10, 20)}\n"
     ]
    }
   ],
   "source": [
    "s1={10, \"Rahul\", 20.5, True, (10,20)} \n",
    "s1.discard(100) #No error\n",
    "print(s1)"
   ]
  },
  {
   "cell_type": "code",
   "execution_count": 2,
   "id": "756ae736-30dd-4d5c-9878-bf538f3d194c",
   "metadata": {},
   "outputs": [
    {
     "ename": "KeyError",
     "evalue": "100",
     "output_type": "error",
     "traceback": [
      "\u001b[1;31m---------------------------------------------------------------------------\u001b[0m",
      "\u001b[1;31mKeyError\u001b[0m                                  Traceback (most recent call last)",
      "Cell \u001b[1;32mIn[2], line 2\u001b[0m\n\u001b[0;32m      1\u001b[0m s1\u001b[38;5;241m=\u001b[39m{\u001b[38;5;241m10\u001b[39m, \u001b[38;5;124m\"\u001b[39m\u001b[38;5;124mRahul\u001b[39m\u001b[38;5;124m\"\u001b[39m, \u001b[38;5;241m20.5\u001b[39m, \u001b[38;5;28;01mTrue\u001b[39;00m, (\u001b[38;5;241m10\u001b[39m,\u001b[38;5;241m20\u001b[39m)} \n\u001b[1;32m----> 2\u001b[0m \u001b[43ms1\u001b[49m\u001b[38;5;241;43m.\u001b[39;49m\u001b[43mremove\u001b[49m\u001b[43m(\u001b[49m\u001b[38;5;241;43m100\u001b[39;49m\u001b[43m)\u001b[49m\n\u001b[0;32m      3\u001b[0m \u001b[38;5;28mprint\u001b[39m(s1)\n",
      "\u001b[1;31mKeyError\u001b[0m: 100"
     ]
    }
   ],
   "source": [
    "s1={10, \"Rahul\", 20.5, True, (10,20)} \n",
    "s1.remove(100)\n",
    "print(s1)"
   ]
  },
  {
   "cell_type": "code",
   "execution_count": 4,
   "id": "078c79dc-ed0f-4f3f-9296-f47d384cb717",
   "metadata": {},
   "outputs": [
    {
     "name": "stdout",
     "output_type": "stream",
     "text": [
      "{101, 102, 103}\n"
     ]
    }
   ],
   "source": [
    "eids={101,102,103,104}\n",
    "eids.pop()\n",
    "print(eids)\n"
   ]
  },
  {
   "cell_type": "code",
   "execution_count": 5,
   "id": "a9f3ff20-aef1-4e5c-b071-d584b0bc4c12",
   "metadata": {},
   "outputs": [
    {
     "name": "stdout",
     "output_type": "stream",
     "text": [
      "{'Sonia', 'Priya', 'Modi'}\n"
     ]
    }
   ],
   "source": [
    "enames={\"Rahul\", \"Sonia\", \"Priya\", \"Modi\"}\n",
    "enames.pop()\n",
    "print(enames)"
   ]
  },
  {
   "cell_type": "code",
   "execution_count": 6,
   "id": "35877340-7260-4706-81a9-f986f3decaa4",
   "metadata": {},
   "outputs": [
    {
     "name": "stdout",
     "output_type": "stream",
     "text": [
      "{'Rahul', 'Sonia', 'Priya'}\n"
     ]
    }
   ],
   "source": [
    "enames={\"Rahul\", \"Sonia\", \"Priya\", \"Modi\"}\n",
    "#set- discard vs set- remove method\n",
    "enames.remove(\"Modi\")\n",
    "print(enames)"
   ]
  },
  {
   "cell_type": "code",
   "execution_count": 7,
   "id": "a651dd83-9260-4263-a638-e33ff0dcd87f",
   "metadata": {},
   "outputs": [
    {
     "name": "stdout",
     "output_type": "stream",
     "text": [
      "{'Rahul', 'Sonia', 'Priya'}\n"
     ]
    }
   ],
   "source": [
    "enames={\"Rahul\", \"Sonia\", \"Priya\", \"Modi\"}\n",
    "#set- discard vs set- remove method\n",
    "enames.discard(\"Modi\")\n",
    "print(enames)"
   ]
  },
  {
   "cell_type": "code",
   "execution_count": 8,
   "id": "e1defbbd-10f6-47e3-8d94-95afeb0e6f7f",
   "metadata": {},
   "outputs": [
    {
     "name": "stdout",
     "output_type": "stream",
     "text": [
      "{'X', 'Rahul', 'Priya', 'Modi', 'Z', 'Sonia', 'Y'}\n"
     ]
    }
   ],
   "source": [
    "enames={\"Rahul\", \"Sonia\", \"Priya\", \"Modi\"}\n",
    "users={\"X\", \"Y\", \"Z\"}\n",
    "enames.update(users)\n",
    "print(enames)"
   ]
  },
  {
   "cell_type": "code",
   "execution_count": 10,
   "id": "3a24b32c-a48d-401e-bd8e-76d4bc19479a",
   "metadata": {},
   "outputs": [
    {
     "name": "stdout",
     "output_type": "stream",
     "text": [
      "{40, 10, 50, 20, 60, 30}\n"
     ]
    }
   ],
   "source": [
    "s1={10,20,30,40}\n",
    "s2={30,40,50,60}\n",
    "print(s1.union(s2)) #all elements"
   ]
  },
  {
   "cell_type": "code",
   "execution_count": 11,
   "id": "dbb6d034-d191-4fa7-8160-902c4ac987db",
   "metadata": {},
   "outputs": [
    {
     "name": "stdout",
     "output_type": "stream",
     "text": [
      "{40, 30}\n"
     ]
    }
   ],
   "source": [
    "s1={10,20,30,40}\n",
    "s2={30,40,50,60}\n",
    "print(s1.intersection(s2)) #common elements"
   ]
  },
  {
   "cell_type": "code",
   "execution_count": 12,
   "id": "d06dd941-568d-467b-a489-2dcaccb39187",
   "metadata": {},
   "outputs": [
    {
     "name": "stdout",
     "output_type": "stream",
     "text": [
      "{10, 20}\n",
      "{50, 60}\n"
     ]
    }
   ],
   "source": [
    "s1={10,20,30,40}\n",
    "s2={30,40,50,60}\n",
    "print(s1.difference(s2)) #exclusive s1\n",
    "print(s2.difference(s1)) #exclusive s1 without common elements\n"
   ]
  },
  {
   "cell_type": "code",
   "execution_count": 14,
   "id": "cc4a7f23-d542-41aa-8b6f-0ffa2adf2939",
   "metadata": {},
   "outputs": [
    {
     "name": "stdout",
     "output_type": "stream",
     "text": [
      "{10, 20}\n"
     ]
    }
   ],
   "source": [
    "s1={10,20,30,40}\n",
    "s2={30,40,50,60}\n",
    "\n",
    "print(s1-s2) #difference "
   ]
  },
  {
   "cell_type": "code",
   "execution_count": 15,
   "id": "2d8ebd7d-8a92-4968-910f-3b0cc0cf4cdb",
   "metadata": {},
   "outputs": [
    {
     "name": "stdout",
     "output_type": "stream",
     "text": [
      "{10, 50, 20, 60}\n"
     ]
    }
   ],
   "source": [
    "s1={10,20,30,40}\n",
    "s2={30,40,50,60}\n",
    "print(s1^s2) #symmetric difference ^ this is called cap"
   ]
  },
  {
   "cell_type": "code",
   "execution_count": 16,
   "id": "7f79fb24-5a9a-4379-9c6b-3583d7420d53",
   "metadata": {},
   "outputs": [
    {
     "name": "stdout",
     "output_type": "stream",
     "text": [
      "{40, 10, 50, 20, 60, 30}\n"
     ]
    }
   ],
   "source": [
    "s1={10,20,30,40}\n",
    "s2={30,40,50,60}\n",
    "print(s1|s2) #union"
   ]
  },
  {
   "cell_type": "code",
   "execution_count": 17,
   "id": "80e9b92b-f064-40fc-b5da-02c536e7fb67",
   "metadata": {},
   "outputs": [
    {
     "name": "stdout",
     "output_type": "stream",
     "text": [
      "{40, 30}\n"
     ]
    }
   ],
   "source": [
    "s1={10,20,30,40}\n",
    "s2={30,40,50,60}\n",
    "print(s1&s2) #intersection"
   ]
  },
  {
   "cell_type": "code",
   "execution_count": null,
   "id": "e13a977b-82ed-4ff4-a7ac-41935747ea14",
   "metadata": {},
   "outputs": [],
   "source": []
  }
 ],
 "metadata": {
  "kernelspec": {
   "display_name": "Python 3 (ipykernel)",
   "language": "python",
   "name": "python3"
  },
  "language_info": {
   "codemirror_mode": {
    "name": "ipython",
    "version": 3
   },
   "file_extension": ".py",
   "mimetype": "text/x-python",
   "name": "python",
   "nbconvert_exporter": "python",
   "pygments_lexer": "ipython3",
   "version": "3.12.8"
  }
 },
 "nbformat": 4,
 "nbformat_minor": 5
}
