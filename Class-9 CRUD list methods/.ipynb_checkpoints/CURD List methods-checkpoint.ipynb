{
 "cells": [
  {
   "cell_type": "code",
   "execution_count": 7,
   "id": "475419b8-634d-49dc-a61d-e5486a626b5d",
   "metadata": {},
   "outputs": [
    {
     "name": "stdout",
     "output_type": "stream",
     "text": [
      "2\n"
     ]
    }
   ],
   "source": [
    "#read- operation\n",
    "l1=[10,20,30,40] #l1.index: return index of first occrance of specified element\n",
    "index=l1.index(30)\n",
    "print(index)"
   ]
  },
  {
   "cell_type": "code",
   "execution_count": 8,
   "id": "48bf5ba6-582f-445a-acc5-e7ff866883b0",
   "metadata": {},
   "outputs": [
    {
     "name": "stdout",
     "output_type": "stream",
     "text": [
      "3\n"
     ]
    }
   ],
   "source": [
    "#read- operation\n",
    "l1=[10,20,30,10,20,30,10] #l1.count: return of number of occurances\n",
    "print(l1.count(10))"
   ]
  },
  {
   "cell_type": "code",
   "execution_count": 4,
   "id": "ee006761-d037-4de2-ab27-e553279e560c",
   "metadata": {},
   "outputs": [
    {
     "name": "stdout",
     "output_type": "stream",
     "text": [
      "[10, 20, 30, 40]\n"
     ]
    }
   ],
   "source": [
    "#update-operation\n",
    "l1=[10,20,30]\n",
    "l1.append(40) #appending element at the end of the list\n",
    "print(l1)"
   ]
  },
  {
   "cell_type": "code",
   "execution_count": 5,
   "id": "d32445f2-7170-4ed4-a6c5-7ea035581052",
   "metadata": {},
   "outputs": [
    {
     "name": "stdout",
     "output_type": "stream",
     "text": [
      "[10, 20, 30, 40, 50, 60]\n"
     ]
    }
   ],
   "source": [
    "#update-operation\n",
    "l1=[10,20,30]\n",
    "l2=[40,50,60]\n",
    "l1.extend(l2) #adding elements from l2 to l1 list as one\n",
    "print(l1)"
   ]
  },
  {
   "cell_type": "code",
   "execution_count": 10,
   "id": "58c888ad-2c35-471e-8d21-07030c1df9e1",
   "metadata": {},
   "outputs": [
    {
     "name": "stdout",
     "output_type": "stream",
     "text": [
      "[10, 15, 20, 30]\n"
     ]
    }
   ],
   "source": [
    "#update-operation\n",
    "l1=[10,20,30]\n",
    "l1.insert(1,15) #insert element at specified index postion\n",
    "print(l1)"
   ]
  },
  {
   "cell_type": "code",
   "execution_count": 12,
   "id": "cbb7de29-fe4f-4ab7-a4c8-f567e1fda9ac",
   "metadata": {},
   "outputs": [
    {
     "name": "stdout",
     "output_type": "stream",
     "text": [
      "[30, 20, 10]\n"
     ]
    }
   ],
   "source": [
    "#update- operation\n",
    "l1=[10,20,30]\n",
    "l1.reverse() #reverse list elements\n",
    "print(l1)"
   ]
  },
  {
   "cell_type": "code",
   "execution_count": 13,
   "id": "8689e604-2667-4f41-a572-6d4f733b27f6",
   "metadata": {},
   "outputs": [
    {
     "name": "stdout",
     "output_type": "stream",
     "text": [
      "[2, 20, 76, 100, 301]\n"
     ]
    }
   ],
   "source": [
    "#update- operation\n",
    "l1=[100,20,301,2,76]\n",
    "l1.sort() #sort list elements-Naturat sorting order(0-9 and A-Z)\n",
    "print(l1)"
   ]
  },
  {
   "cell_type": "code",
   "execution_count": 14,
   "id": "b6cec0dd-3fce-48d8-98a2-178e074f37a0",
   "metadata": {},
   "outputs": [
    {
     "name": "stdout",
     "output_type": "stream",
     "text": [
      "['Chitra', 'Megha', 'Mrinalini', 'Syam', 'Vasu']\n"
     ]
    }
   ],
   "source": [
    "enames=[\"Mrinalini\", \"Megha\", \"Vasu\", \"Syam\", \"Chitra\"]\n",
    "enames.sort() #natural sorting order a-z\n",
    "print(enames)"
   ]
  },
  {
   "cell_type": "code",
   "execution_count": 15,
   "id": "01666885-c24c-4512-8655-30b2a77b0aad",
   "metadata": {},
   "outputs": [
    {
     "name": "stdout",
     "output_type": "stream",
     "text": [
      "['Vasu', 'Syam', 'Mrinalini', 'Megha', 'Chitra']\n"
     ]
    }
   ],
   "source": [
    "enames=[\"Mrinalini\", \"Megha\", \"Vasu\", \"Syam\", \"Chitra\"]\n",
    "enames.sort(reverse=True)\n",
    "print(enames)"
   ]
  },
  {
   "cell_type": "code",
   "execution_count": 17,
   "id": "d2bb901f-90d0-4130-9380-0bfc7df8639c",
   "metadata": {},
   "outputs": [
    {
     "name": "stdout",
     "output_type": "stream",
     "text": [
      "[1.4555, 34, 20000.5]\n"
     ]
    }
   ],
   "source": [
    "sal=[20000.5, 34, 1.4555]\n",
    "sal.sort()\n",
    "print(sal)"
   ]
  },
  {
   "cell_type": "code",
   "execution_count": 18,
   "id": "c22d2c9a-f900-41cc-882f-f03890910104",
   "metadata": {},
   "outputs": [
    {
     "name": "stdout",
     "output_type": "stream",
     "text": [
      "[]\n"
     ]
    }
   ],
   "source": [
    "#delete- operation\n",
    "l1=[10,20,30,40]\n",
    "l1.clear() #remove all elements from given list \n",
    "print(l1) "
   ]
  },
  {
   "cell_type": "code",
   "execution_count": 19,
   "id": "30a0a60f-5004-477f-94fa-0c7cd62dfac2",
   "metadata": {},
   "outputs": [
    {
     "name": "stdout",
     "output_type": "stream",
     "text": [
      "[10, 20, 30]\n"
     ]
    }
   ],
   "source": [
    "#delete- operation\n",
    "l1=[10,20,30,40]\n",
    "l1.pop() #remove last element from given list, if list is empty you will get \"INDEX ERROR\"\n",
    "print(l1)"
   ]
  },
  {
   "cell_type": "code",
   "execution_count": 20,
   "id": "f1d1348f-d616-428b-8b56-f5c671823b21",
   "metadata": {},
   "outputs": [
    {
     "name": "stdout",
     "output_type": "stream",
     "text": [
      "[10, 20, 40]\n"
     ]
    }
   ],
   "source": [
    "#delete- operation\n",
    "l1=[10,20,30,40]\n",
    "l1.remove(30) #remove specified element from given list, if specifed element not present in the list \"VALUE ERROR\"\n",
    "print(l1)\n"
   ]
  },
  {
   "cell_type": "code",
   "execution_count": null,
   "id": "a2255723-ca42-497b-8f4b-aa81c7fb757f",
   "metadata": {},
   "outputs": [],
   "source": []
  }
 ],
 "metadata": {
  "kernelspec": {
   "display_name": "Python 3 (ipykernel)",
   "language": "python",
   "name": "python3"
  },
  "language_info": {
   "codemirror_mode": {
    "name": "ipython",
    "version": 3
   },
   "file_extension": ".py",
   "mimetype": "text/x-python",
   "name": "python",
   "nbconvert_exporter": "python",
   "pygments_lexer": "ipython3",
   "version": "3.12.8"
  }
 },
 "nbformat": 4,
 "nbformat_minor": 5
}
