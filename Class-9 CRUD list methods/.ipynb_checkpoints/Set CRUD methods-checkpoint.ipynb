{
 "cells": [
  {
   "cell_type": "code",
   "execution_count": 1,
   "id": "d0fb847f-1d71-420b-b669-55058422ce5a",
   "metadata": {},
   "outputs": [
    {
     "name": "stdout",
     "output_type": "stream",
     "text": [
      "<class 'dict'>\n",
      "<class 'set'>\n",
      "<class 'set'>\n"
     ]
    }
   ],
   "source": [
    "#set- object\n",
    "s1= {}\n",
    "s2={10}\n",
    "#how to create an empty set? using set fuction\n",
    "s3= set ()\n",
    "\n",
    "print(type(s1))\n",
    "print(type(s2))\n",
    "print(type(s3))\n",
    "      "
   ]
  },
  {
   "cell_type": "code",
   "execution_count": 2,
   "id": "99169fa8-bfc0-42e7-9ab5-9ba8629097b5",
   "metadata": {},
   "outputs": [
    {
     "name": "stdout",
     "output_type": "stream",
     "text": [
      "{101, 102}\n"
     ]
    }
   ],
   "source": [
    "eids={101,101,102,102,102,101}\n",
    "print(eids) #set-duplicates are not allowed"
   ]
  },
  {
   "cell_type": "code",
   "execution_count": 4,
   "id": "65913ffe-f0ea-41a9-9369-76eb955cf8e4",
   "metadata": {},
   "outputs": [
    {
     "name": "stdout",
     "output_type": "stream",
     "text": [
      "[101, 101, 102, 102, 102, 101]\n",
      "(101, 101, 102, 102, 102, 101)\n",
      "{101, 102}\n"
     ]
    }
   ],
   "source": [
    "l1=[101,101,102,102,102,101] #LIST\n",
    "t1=(101,101,102,102,102,101) #TUPLE \n",
    "s1={101,101,102,102,102,101} #SET    \n",
    "print(l1) #LIST ALLOWED DUPLICATES\n",
    "print(t1) #LIST ALLOWED DUPLICATES\n",
    "print(s1) #DOESN'T ALLOW DUPLICATES"
   ]
  },
  {
   "cell_type": "code",
   "execution_count": 5,
   "id": "0adffe84-0e09-4e56-a167-58530fdaa92d",
   "metadata": {},
   "outputs": [
    {
     "name": "stdout",
     "output_type": "stream",
     "text": [
      "{True, 20.5, 10, 'Rahul', (10, 20)}\n"
     ]
    }
   ],
   "source": [
    "s1={10, \"Rahul\", 20.5, True, (10,20)} \n",
    "print(s1) #set doesn't have order because indexing concept not applicable\n",
    "#set objects will not allow dict and set only will allow heterogenous and tuple"
   ]
  },
  {
   "cell_type": "code",
   "execution_count": 6,
   "id": "9cbba12a-941e-4970-affb-45fb925b1a8a",
   "metadata": {},
   "outputs": [
    {
     "name": "stdout",
     "output_type": "stream",
     "text": [
      "True\n",
      "20.5\n",
      "10\n",
      "Rahul\n",
      "(10, 20)\n"
     ]
    }
   ],
   "source": [
    "s1={10, \"Rahul\", 20.5, True, (10,20)} \n",
    "for ele in s1:\n",
    "    print(ele)"
   ]
  },
  {
   "cell_type": "code",
   "execution_count": 7,
   "id": "5044a11b-d402-4ee0-9ffb-22e89afca9ef",
   "metadata": {},
   "outputs": [
    {
     "name": "stdout",
     "output_type": "stream",
     "text": [
      "{True, 20.5, 10, 'sonia', 'Rahul', (10, 20)}\n"
     ]
    }
   ],
   "source": [
    "s1={10, \"Rahul\", 20.5, True, (10,20)} \n",
    "s1.add(\"sonia\") #set is a mutable object meaning elements can be added.\n",
    "print(s1)\n"
   ]
  },
  {
   "cell_type": "code",
   "execution_count": 8,
   "id": "26d521b0-bc19-400d-bbaa-dbeafe00843a",
   "metadata": {},
   "outputs": [
    {
     "name": "stdout",
     "output_type": "stream",
     "text": [
      "set()\n"
     ]
    }
   ],
   "source": [
    "s1={10, \"Rahul\", 20.5, True, (10,20)} \n",
    "s1.clear() #all elements are removed however there is empty set\n",
    "print(s1) "
   ]
  },
  {
   "cell_type": "code",
   "execution_count": 9,
   "id": "d9755025-9658-45da-ae9d-0462ee6533bd",
   "metadata": {},
   "outputs": [
    {
     "name": "stdout",
     "output_type": "stream",
     "text": [
      "{20.5, 10, 'Rahul', (10, 20)}\n"
     ]
    }
   ],
   "source": [
    "s1={10, \"Rahul\", 20.5, True, (10,20)} \n",
    "s1.pop() #removes arbitary element\n",
    "print(s1) "
   ]
  },
  {
   "cell_type": "code",
   "execution_count": 11,
   "id": "8b9ff6fc-71e8-4baf-98d0-67f0f1f4a16a",
   "metadata": {},
   "outputs": [
    {
     "name": "stdout",
     "output_type": "stream",
     "text": [
      "{True, 20.5, 'Rahul', (10, 20)}\n"
     ]
    }
   ],
   "source": [
    "s1={10, \"Rahul\", 20.5, True, (10,20)} \n",
    "s1.remove(10)\n",
    "print(s1)"
   ]
  },
  {
   "cell_type": "code",
   "execution_count": 12,
   "id": "836dc2d2-e61c-467f-9dc9-ad99ce7dca8b",
   "metadata": {},
   "outputs": [
    {
     "name": "stdout",
     "output_type": "stream",
     "text": [
      "{20.5, 10, 'Rahul', (10, 20)}\n",
      "True\n"
     ]
    }
   ],
   "source": [
    "s1={10, \"Rahul\", 20.5, True, (10,20)} \n",
    "rem_element=s1.pop()\n",
    "print(s1)\n",
    "print(rem_element)"
   ]
  },
  {
   "cell_type": "code",
   "execution_count": null,
   "id": "d69a7b4a-af92-4fdf-9b4b-877296a42e78",
   "metadata": {},
   "outputs": [],
   "source": []
  }
 ],
 "metadata": {
  "kernelspec": {
   "display_name": "Python 3 (ipykernel)",
   "language": "python",
   "name": "python3"
  },
  "language_info": {
   "codemirror_mode": {
    "name": "ipython",
    "version": 3
   },
   "file_extension": ".py",
   "mimetype": "text/x-python",
   "name": "python",
   "nbconvert_exporter": "python",
   "pygments_lexer": "ipython3",
   "version": "3.12.8"
  }
 },
 "nbformat": 4,
 "nbformat_minor": 5
}
