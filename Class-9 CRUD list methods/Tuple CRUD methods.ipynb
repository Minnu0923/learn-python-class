{
 "cells": [
  {
   "cell_type": "code",
   "execution_count": 1,
   "id": "e1ed2a6c-1afc-4fc0-82d4-e70bcb4d6530",
   "metadata": {},
   "outputs": [
    {
     "name": "stdout",
     "output_type": "stream",
     "text": [
      "<class 'tuple'>\n",
      "<class 'tuple'>\n",
      "<class 'tuple'>\n",
      "<class 'tuple'>\n",
      "()\n",
      "(10, 20, 30)\n",
      "(10, 20, 30, 40)\n",
      "(10, True, 'Rahul', 10, 'Rahul', 10)\n"
     ]
    }
   ],
   "source": [
    "#What is tuple?- read only version of list\n",
    "t1=()\n",
    "t2=10,20,30\n",
    "t3=tuple([10,20,30,40])\n",
    "t4=(10,True,\"Rahul\",10,\"Rahul\",10)\n",
    "\n",
    "\n",
    "print(type(t1))\n",
    "print(type(t2))\n",
    "print(type(t3))\n",
    "print(type(t4))\n",
    "print(t1)\n",
    "print(t2)\n",
    "print(t3)\n",
    "print(t4)\n"
   ]
  },
  {
   "cell_type": "code",
   "execution_count": 2,
   "id": "42e32b13-b323-4adb-ab75-bf3f7509e566",
   "metadata": {},
   "outputs": [
    {
     "name": "stdout",
     "output_type": "stream",
     "text": [
      "Rahul\n",
      "Sonia\n",
      "Priyanka\n"
     ]
    }
   ],
   "source": [
    "#how to read tuple elements? using index\n",
    "enames=(\"Rahul\", \"Sonia\", \"Priyanka\", \"Modi\",\"Amith\")\n",
    "print(enames[0])\n",
    "print(enames[1])\n",
    "print(enames[2])\n"
   ]
  },
  {
   "cell_type": "code",
   "execution_count": 4,
   "id": "116e7daa-8fcc-4fb4-875f-9f69919904df",
   "metadata": {},
   "outputs": [
    {
     "name": "stdout",
     "output_type": "stream",
     "text": [
      "Rahul\n",
      "Sonia\n",
      "Priyanka\n",
      "Modi\n",
      "Amith\n"
     ]
    }
   ],
   "source": [
    "enames=(\"Rahul\", \"Sonia\", \"Priyanka\", \"Modi\",\"Amith\")\n",
    "#iterate tuple object- using for loop and while loop\n",
    "for ename in enames:\n",
    "    print(ename)"
   ]
  },
  {
   "cell_type": "code",
   "execution_count": 6,
   "id": "0818d674-2dce-4f60-9c35-fb386c30c766",
   "metadata": {},
   "outputs": [
    {
     "name": "stdout",
     "output_type": "stream",
     "text": [
      "Rahul\n",
      "Sonia\n",
      "Priyanka\n",
      "Modi\n",
      "Amith\n"
     ]
    }
   ],
   "source": [
    "enames=(\"Rahul\", \"Sonia\", \"Priyanka\", \"Modi\",\"Amith\")\n",
    "#iterate tuple object using for loop and while\n",
    "i=0\n",
    "while i<=len(enames)-1:\n",
    "    print(enames[i])\n",
    "    i=i+1\n"
   ]
  },
  {
   "cell_type": "code",
   "execution_count": null,
   "id": "804f1e40-b91f-4ef2-9abf-2a84c9dd9797",
   "metadata": {},
   "outputs": [],
   "source": []
  }
 ],
 "metadata": {
  "kernelspec": {
   "display_name": "Python 3 (ipykernel)",
   "language": "python",
   "name": "python3"
  },
  "language_info": {
   "codemirror_mode": {
    "name": "ipython",
    "version": 3
   },
   "file_extension": ".py",
   "mimetype": "text/x-python",
   "name": "python",
   "nbconvert_exporter": "python",
   "pygments_lexer": "ipython3",
   "version": "3.12.8"
  }
 },
 "nbformat": 4,
 "nbformat_minor": 5
}
