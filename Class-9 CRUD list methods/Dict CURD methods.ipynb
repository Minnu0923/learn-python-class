{
 "cells": [
  {
   "cell_type": "code",
   "execution_count": 2,
   "id": "0e14f194-3da0-4c5e-8254-33184a1afff8",
   "metadata": {},
   "outputs": [
    {
     "name": "stdout",
     "output_type": "stream",
     "text": [
      "{}\n",
      "{1: 'one', 2: 'two', 3: 'three'}\n",
      "{'email': 'rahul@oracle.com'}\n"
     ]
    }
   ],
   "source": [
    "d1={}\n",
    "d2={1:'one', 2:'two', 3:'three'}\n",
    "d3={'email':'rahul@gmail.com',\n",
    "    'email':'rahul@ibm.com',\n",
    "    'email':'rahul@oracle.com',\n",
    "   }\n",
    "    \n",
    "print(d1)\n",
    "print(d2)\n",
    "print(d3)\n",
    "# -group of key: value pairs as one entity\n",
    "# -duplicate keys are not allowed but values are allowed\n",
    "# -indecing concept not applicable"
   ]
  },
  {
   "cell_type": "code",
   "execution_count": 3,
   "id": "0b7e74c8-0307-493f-ba8a-316d22c826fc",
   "metadata": {},
   "outputs": [
    {
     "name": "stdout",
     "output_type": "stream",
     "text": [
      "<class 'dict'>\n",
      "<class 'dict'>\n"
     ]
    }
   ],
   "source": [
    "#create and read object\n",
    "emp={\n",
    "    'eid':101,\n",
    "    'ename':'Rahul',\n",
    "    'esal':45000.45\n",
    "}\n",
    "\n",
    "user=dict()\n",
    "print(type(emp))\n",
    "print(type(user))\n",
    "    "
   ]
  },
  {
   "cell_type": "code",
   "execution_count": 4,
   "id": "8c57b437-9b6c-43df-a0a0-044ce2a9e1ac",
   "metadata": {},
   "outputs": [
    {
     "name": "stdout",
     "output_type": "stream",
     "text": [
      "101\n",
      "Rahul\n",
      "45000.45\n"
     ]
    }
   ],
   "source": [
    "# how to read dict values? using get method\n",
    "emp={\n",
    "    'eid':101,\n",
    "    'ename':'Rahul',\n",
    "    'esal':45000.45\n",
    "}\n",
    "\n",
    "#read emp- dict values\n",
    "\n",
    "print(emp.get('eid'))\n",
    "print(emp.get('ename'))\n",
    "print(emp.get('esal'))\n"
   ]
  },
  {
   "cell_type": "code",
   "execution_count": 9,
   "id": "b34ef520-13ed-4c14-86a4-25c162fed3cf",
   "metadata": {},
   "outputs": [
    {
     "name": "stdout",
     "output_type": "stream",
     "text": [
      "{'eid': 101, 'ename': 'Rahul Gandhi ji', 'esal': 45000.45, 'loc': 'Wayanad'}\n"
     ]
    }
   ],
   "source": [
    "#how to update the dict? using key\n",
    "emp={\n",
    "    'eid':101,\n",
    "    'ename':'Rahul',\n",
    "    'esal':45000.45\n",
    "}\n",
    "emp['ename']= 'Rahul Gandhi ji' #will update if the key is available\n",
    "emp['loc']='Wayanad' #if there is no key then it will add that key\n",
    "print(emp)\n",
    "    "
   ]
  },
  {
   "cell_type": "code",
   "execution_count": 10,
   "id": "b0147844-aeb4-4197-a911-dcc37dc9bb3e",
   "metadata": {},
   "outputs": [
    {
     "name": "stdout",
     "output_type": "stream",
     "text": [
      "{'eid': 101, 'ename': 'Rahul Gandhi ji', 'loc': 'Wayanad'}\n"
     ]
    }
   ],
   "source": [
    "#how to delete the dict?\n",
    "emp={'eid': 101, 'ename': 'Rahul Gandhi ji', 'esal': 45000.45, 'loc': 'Wayanad'}\n",
    "\n",
    "del emp['esal']\n",
    "print(emp)\n",
    "\n"
   ]
  },
  {
   "cell_type": "code",
   "execution_count": 14,
   "id": "f4af88b0-c686-4bc0-bca1-22c0eca63fa4",
   "metadata": {},
   "outputs": [
    {
     "name": "stdout",
     "output_type": "stream",
     "text": [
      "Rahul\n",
      "Sonia\n",
      "Priyanka\n"
     ]
    }
   ],
   "source": [
    "emp=[\n",
    "    {'id':101, 'ename':'Rahul','gender':'Male'},\n",
    "    {'id':102, 'ename':'Sonia', 'gender':'Female'},\n",
    "    {'id':103, 'ename':'Priyanka', 'gender':'Female'}\n",
    "    ]\n",
    "#print all employee names\n",
    "print(emp[0].get('ename'))\n",
    "print(emp[1].get('ename'))\n",
    "print(emp[2].get('ename'))"
   ]
  },
  {
   "cell_type": "code",
   "execution_count": 18,
   "id": "10e475e5-fa2c-4ad8-959f-d9d86cb2f4bf",
   "metadata": {},
   "outputs": [
    {
     "name": "stdout",
     "output_type": "stream",
     "text": [
      "Rahul\n",
      "Sonia\n",
      "Priyanka\n"
     ]
    }
   ],
   "source": [
    "employees=[\n",
    "    {'id':101, 'ename':'Rahul','gender':'Male'},\n",
    "    {'id':102, 'ename':'Sonia', 'gender':'Female'},\n",
    "    {'id':103, 'ename':'Priyanka', 'gender':'Female'}\n",
    "    ]\n",
    "for employee in employees:\n",
    "    print(employee.get('ename'))"
   ]
  },
  {
   "cell_type": "code",
   "execution_count": null,
   "id": "524e3711-e9af-4c7e-ba3c-910292f0d0b8",
   "metadata": {},
   "outputs": [],
   "source": []
  },
  {
   "cell_type": "code",
   "execution_count": null,
   "id": "d5f68dfb-f8a6-4067-b80a-a79df99abba7",
   "metadata": {},
   "outputs": [],
   "source": []
  }
 ],
 "metadata": {
  "kernelspec": {
   "display_name": "Python 3 (ipykernel)",
   "language": "python",
   "name": "python3"
  },
  "language_info": {
   "codemirror_mode": {
    "name": "ipython",
    "version": 3
   },
   "file_extension": ".py",
   "mimetype": "text/x-python",
   "name": "python",
   "nbconvert_exporter": "python",
   "pygments_lexer": "ipython3",
   "version": "3.12.8"
  }
 },
 "nbformat": 4,
 "nbformat_minor": 5
}
