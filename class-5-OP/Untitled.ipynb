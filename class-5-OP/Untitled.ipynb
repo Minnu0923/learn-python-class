{
 "cells": [
  {
   "cell_type": "code",
   "execution_count": null,
   "id": "3e315dd8-9e78-4385-91d6-59e8830a527b",
   "metadata": {},
   "outputs": [],
   "source": []
  }
 ],
 "metadata": {
  "kernelspec": {
   "display_name": "",
   "name": ""
  },
  "language_info": {
   "name": ""
  }
 },
 "nbformat": 4,
 "nbformat_minor": 5
}
